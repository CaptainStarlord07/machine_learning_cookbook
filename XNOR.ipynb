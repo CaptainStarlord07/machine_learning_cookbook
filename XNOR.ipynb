{
 "cells": [
  {
   "cell_type": "code",
   "execution_count": 1,
   "metadata": {},
   "outputs": [],
   "source": [
    "import numpy as np\n",
    "import matplotlib.pyplot as plt"
   ]
  },
  {
   "cell_type": "code",
   "execution_count": 2,
   "metadata": {},
   "outputs": [],
   "source": [
    "X = np.array([[0,0],[0,1],[1,0],[1,1]])\n",
    "y=np.array([1, 0, 0, 1])"
   ]
  },
  {
   "cell_type": "code",
   "execution_count": 3,
   "metadata": {},
   "outputs": [],
   "source": [
    "#Step 1 :- initializing random weights........................................................\n",
    "def init(layers, inputShape):\n",
    "    w = []\n",
    "    w.append (np.random.normal(0,1,(layers[0], inputShape[1]+1)))\n",
    "    for i in range(1 , len(layers)):\n",
    "        wi = np.random.normal(0,1,(layers[i], layers[i-1]+1))\n",
    "        w.append(wi)\n",
    "    return w"
   ]
  },
  {
   "cell_type": "code",
   "execution_count": 4,
   "metadata": {},
   "outputs": [],
   "source": [
    "#Sigmoid Activation Function......................................................\n",
    "def activationFunction(x, w):\n",
    "    z = np.dot(x, w.T)\n",
    "    res = 1.0/(1.0 + np.exp(-z))\n",
    "    return res"
   ]
  },
  {
   "cell_type": "code",
   "execution_count": 5,
   "metadata": {},
   "outputs": [],
   "source": [
    "#Returns Differentiation Of Sigmoid Function.........................................\n",
    "def return_sigmoid_der(z):\n",
    "    return z * (1 - z);"
   ]
  },
  {
   "cell_type": "code",
   "execution_count": 6,
   "metadata": {},
   "outputs": [],
   "source": [
    "#Backpropogation Algorithm...................................\n",
    "def Back_Propogation(X, y, lr, epochs):\n",
    "    errorList = []\n",
    "    for e in range(epochs):\n",
    "        totalError = 0\n",
    "        \n",
    "        for i in range(X.shape[0]):\n",
    "            output = []\n",
    "            x = X[i]\n",
    "            output.append(x)\n",
    "            \n",
    "            #Step 2 : Forward Propogation.................................\n",
    "            for j in range(len(layers)):\n",
    "                x = np.insert(x, 0, 1, axis=0)\n",
    "                x = activationFunction(x, w[j])\n",
    "                output.append(x)\n",
    "\n",
    "            y_pred = x\n",
    "            loss = np.sum((y[i] - y_pred)**2)\n",
    "            totalError = totalError + loss\n",
    "            delta = [(y_pred - y[i]) * return_sigmoid_der(output[-1])]\n",
    "\n",
    "            #Step 3 : Backpropogation.................................\n",
    "            for k in range(len(output)-2, 0, -1):\n",
    "                sig = return_sigmoid_der(output[k])\n",
    "                wi = w[k][:,1:]\n",
    "                delta.append(np.dot(delta[-1], wi) * sig)\n",
    "\n",
    "            delta.reverse()\n",
    "\n",
    "            for k in range(len(w)):\n",
    "                inp = output[k]\n",
    "                inp = np.insert(inp, 0, 1, axis=0)\n",
    "                w[k] = w[k] - lr * np.dot(np.atleast_2d(delta[k]).T,np.atleast_2d(inp))\n",
    "        errorList.append(totalError)\n",
    "    return errorList"
   ]
  },
  {
   "cell_type": "code",
   "execution_count": 7,
   "metadata": {},
   "outputs": [],
   "source": [
    "layers = [4, 3, 2, 1]\n",
    "w = init(layers, X.shape)"
   ]
  },
  {
   "cell_type": "code",
   "execution_count": 8,
   "metadata": {},
   "outputs": [],
   "source": [
    "error = Back_Propogation(X, y, 0.1, 100000)"
   ]
  },
  {
   "cell_type": "code",
   "execution_count": 9,
   "metadata": {},
   "outputs": [
    {
     "name": "stdout",
     "output_type": "stream",
     "text": [
      "Final Error : 0.0003254255447395452\n"
     ]
    },
    {
     "data": {
      "image/png": "[encoded data removed]",
      "text/plain": [
       "<Figure size 432x288 with 1 Axes>"
      ]
     },
     "metadata": {
      "needs_background": "light"
     },
     "output_type": "display_data"
    }
   ],
   "source": [
    "print(\"Final Error :\", error[-1])\n",
    "plt.plot(error)\n",
    "plt.xlabel(\"Epochs\")\n",
    "plt.ylabel(\"Error\")\n",
    "plt.grid()\n",
    "plt.show()"
   ]
  },
  {
   "cell_type": "code",
   "execution_count": 10,
   "metadata": {},
   "outputs": [
    {
     "data": {
      "text/plain": [
       "[array([0.99118903]),\n",
       " array([0.0069894]),\n",
       " array([0.0084835]),\n",
       " array([0.9887327])]"
      ]
     },
     "execution_count": 10,
     "metadata": {},
     "output_type": "execute_result"
    }
   ],
   "source": [
    "y_pred = [] \n",
    "for i in range(X.shape[0]):\n",
    "    output = []\n",
    "    x = X[i]\n",
    "    output.append(x)\n",
    "    for j in range(len(layers)):\n",
    "        x = np.insert(x, 0, 1, axis=0)\n",
    "        x = activationFunction(x, w[j])\n",
    "    y_pred.append(x)\n",
    "y_pred"
   ]
  }
 ],
 "metadata": {
  "kernelspec": {
   "display_name": "Python 3",
   "language": "python",
   "name": "python3"
  },
  "language_info": {
   "codemirror_mode": {
    "name": "ipython",
    "version": 3
   },
   "file_extension": ".py",
   "mimetype": "text/x-python",
   "name": "python",
   "nbconvert_exporter": "python",
   "pygments_lexer": "ipython3",
   "version": "3.7.4"
  }
 },
 "nbformat": 4,
 "nbformat_minor": 2
}
