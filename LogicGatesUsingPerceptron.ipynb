{
  "nbformat": 4,
  "nbformat_minor": 0,
  "metadata": {
    "colab": {
      "name": "Logic_Gates_Using_Perceptron",
      "provenance": []
    },
    "kernelspec": {
      "name": "python3",
      "display_name": "Python 3"
    }
  },
  "cells": [
    {
      "cell_type": "code",
      "metadata": {
        "id": "jNgBRAJsu9IN",
        "colab_type": "code",
        "colab": {}
      },
      "source": [
        "import numpy as np"
      ],
      "execution_count": 0,
      "outputs": []
    },
    {
      "cell_type": "code",
      "metadata": {
        "id": "ipQprh3j_tA6",
        "colab_type": "code",
        "colab": {}
      },
      "source": [
        "X = np.array([[1, 0, 0], [1, 0, 1], [1, 1, 0], [1, 1, 1]])"
      ],
      "execution_count": 0,
      "outputs": []
    },
    {
      "cell_type": "code",
      "metadata": {
        "id": "qv07YILW_-Vy",
        "colab_type": "code",
        "colab": {}
      },
      "source": [
        "#Perceptron Learning Algorithm\n",
        "def perceptron(X, y):\n",
        "  w = np.random.rand(X.shape[1])\n",
        "  error = 1\n",
        "  while (error != 0):\n",
        "    error = 0\n",
        "    for i in range(X.shape[0]):\n",
        "      y_pred = predict(w, X[i])\n",
        "\n",
        "      if y[i] == 0 and y_pred == 1 :\n",
        "        w = w - X[i]\n",
        "        error = 1\n",
        "      \n",
        "      if y[i] == 1 and y_pred == 0:\n",
        "        w = w + X[i]\n",
        "        error = 1\n",
        "  return w"
      ],
      "execution_count": 0,
      "outputs": []
    },
    {
      "cell_type": "code",
      "metadata": {
        "id": "xl33Dy41BYfQ",
        "colab_type": "code",
        "colab": {}
      },
      "source": [
        "#Activation Function\n",
        "def predict(w, X):\n",
        "  y = np.dot(w.T, X)\n",
        "  return 1 if y > 0 else 0 "
      ],
      "execution_count": 0,
      "outputs": []
    },
    {
      "cell_type": "code",
      "metadata": {
        "id": "EIjvvtQiCBG5",
        "colab_type": "code",
        "outputId": "ec9fac5b-fc95-4d54-d6ac-8fce0c6b935f",
        "colab": {
          "base_uri": "https://localhost:8080/",
          "height": 104
        }
      },
      "source": [
        "#AND Logic Gate\n",
        "def AND_GATE(X):\n",
        "  w =  perceptron(X, [0, 0, 0, 1])\n",
        "  y = np.zeros(X.shape[0])\n",
        "  for i in range(y.shape[0]):\n",
        "    y[i] = predict(w, X[i])\n",
        "    print(X[i][1],\" \", X[i][2],\" \", y[i])\n",
        "  print(\"Weights : \", w)\n",
        "AND_GATE(X)"
      ],
      "execution_count": 0,
      "outputs": [
        {
          "output_type": "stream",
          "text": [
            "0   0   0.0\n",
            "0   1   0.0\n",
            "1   0   0.0\n",
            "1   1   1.0\n",
            "Weights :  [-0.85933256  0.81640547  0.37852289]\n"
          ],
          "name": "stdout"
        }
      ]
    },
    {
      "cell_type": "code",
      "metadata": {
        "id": "ddLkMpCfDXpb",
        "colab_type": "code",
        "outputId": "3ef5581a-4533-4da0-91ec-cd90f8d54527",
        "colab": {
          "base_uri": "https://localhost:8080/",
          "height": 104
        }
      },
      "source": [
        "#NAND Logic Gate\n",
        "def NAND_GATE(X):\n",
        "  w =  perceptron(X, [1, 1, 1, 0])\n",
        "  y = np.zeros(X.shape[0])\n",
        "  for i in range(y.shape[0]):\n",
        "    y[i] = predict(w, X[i])\n",
        "    print(X[i][1],\" \", X[i][2],\" \", y[i])\n",
        "  print(\"Weights : \", w)\n",
        "NAND_GATE(X)"
      ],
      "execution_count": 0,
      "outputs": [
        {
          "output_type": "stream",
          "text": [
            "0   0   1.0\n",
            "0   1   1.0\n",
            "1   0   1.0\n",
            "1   1   0.0\n",
            "Weights :  [ 2.55805272 -2.15685381 -0.78331384]\n"
          ],
          "name": "stdout"
        }
      ]
    },
    {
      "cell_type": "code",
      "metadata": {
        "id": "mFw0xO7QFLyc",
        "colab_type": "code",
        "outputId": "1638de58-010b-41bd-c765-ce3c162c2221",
        "colab": {
          "base_uri": "https://localhost:8080/",
          "height": 104
        }
      },
      "source": [
        "#OR Logic Gate\n",
        "def OR_GATE(X):\n",
        "  w = perceptron(X, [0, 1, 1, 1])\n",
        "  y = np.zeros(X.shape[0])\n",
        "  for i in range(y.shape[0]):\n",
        "    y[i] = predict(w, X[i])\n",
        "    print(X[i][1],\" \", X[i][2],\" \", y[i])\n",
        "  print(\"Weights : \", w)\n",
        "OR_GATE(X)"
      ],
      "execution_count": 0,
      "outputs": [
        {
          "output_type": "stream",
          "text": [
            "0   0   0.0\n",
            "0   1   1.0\n",
            "1   0   1.0\n",
            "1   1   1.0\n",
            "Weights :  [-0.0492288   0.11274594  0.15730445]\n"
          ],
          "name": "stdout"
        }
      ]
    },
    {
      "cell_type": "code",
      "metadata": {
        "id": "t9bAg9S6Jt6Z",
        "colab_type": "code",
        "outputId": "1e0777e7-0b97-4afa-9d7c-a613d3ae8f53",
        "colab": {
          "base_uri": "https://localhost:8080/",
          "height": 104
        }
      },
      "source": [
        "#NOR Logic Gate\n",
        "def NOR_GATE(X):\n",
        "  w = perceptron(X, [1, 0, 0, 0])\n",
        "  y = np.zeros(X.shape[0])\n",
        "  for i in range(y.shape[0]):\n",
        "    y[i] = predict(w, X[i])\n",
        "    print(X[i][1],\" \", X[i][2],\" \", y[i])\n",
        "  print(\"Weights : \", w)\n",
        "NOR_GATE(X)"
      ],
      "execution_count": 0,
      "outputs": [
        {
          "output_type": "stream",
          "text": [
            "0   0   1.0\n",
            "0   1   0.0\n",
            "1   0   0.0\n",
            "1   1   0.0\n",
            "Weights :  [ 0.62319263 -1.35728862 -1.42779754]\n"
          ],
          "name": "stdout"
        }
      ]
    },
    {
      "cell_type": "code",
      "metadata": {
        "id": "kchRebI8MGDS",
        "colab_type": "code",
        "colab": {}
      },
      "source": [
        ""
      ],
      "execution_count": 0,
      "outputs": []
    }
  ]
}