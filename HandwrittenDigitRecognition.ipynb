{
  "nbformat": 4,
  "nbformat_minor": 0,
  "metadata": {
    "colab": {
      "name": "HandwrittenDigitRecognition.ipynb",
      "provenance": []
    },
    "kernelspec": {
      "name": "python3",
      "display_name": "Python 3"
    }
  },
  "cells": [
    {
      "cell_type": "code",
      "metadata": {
        "id": "BRuHGpGaE2Kq",
        "colab_type": "code",
        "colab": {}
      },
      "source": [
        "#importing libraries\n",
        "import os\n",
        "import numpy as np\n",
        "from matplotlib import pyplot as plt\n",
        "from PIL import Image as im\n",
        "import matplotlib . cm as cm\n",
        "import tensorflow as tf\n",
        "from sklearn.metrics import accuracy_score"
      ],
      "execution_count": 0,
      "outputs": []
    },
    {
      "cell_type": "code",
      "metadata": {
        "id": "aW6ZFsz7E-XG",
        "colab_type": "code",
        "colab": {}
      },
      "source": [
        "#importing Data\n",
        "(x_train, y_train), (x_test, y_test) = tf.keras.datasets.mnist.load_data()"
      ],
      "execution_count": 0,
      "outputs": []
    },
    {
      "cell_type": "code",
      "metadata": {
        "id": "HzeGyaI1FV72",
        "colab_type": "code",
        "colab": {}
      },
      "source": [
        "def imageMatrix(data):\n",
        "  img_mat = []\n",
        "  for i in range(data.shape[0]):\n",
        "     img = data[i].flatten()\n",
        "     img_mat.append(img)\n",
        "  X = np.vstack(img_mat)\n",
        "  return X"
      ],
      "execution_count": 0,
      "outputs": []
    },
    {
      "cell_type": "code",
      "metadata": {
        "id": "0vdR1vGLFpwQ",
        "colab_type": "code",
        "colab": {}
      },
      "source": [
        "def covarianceMatrix(X):\n",
        "  mu = np.mean(X, axis = 0)\n",
        "  X_norm = X - mu\n",
        "  cov_mat = np.dot(X_norm.T, X_norm)\n",
        "  return [mu, X_norm, cov_mat]\n"
      ],
      "execution_count": 0,
      "outputs": []
    },
    {
      "cell_type": "code",
      "metadata": {
        "id": "0fHEUReEJ8ww",
        "colab_type": "code",
        "colab": {}
      },
      "source": [
        "def PCA(X):\n",
        "  X = imageMatrix(x_train)\n",
        "  [mu, X_norm, cov_mat] = covarianceMatrix(X)\n",
        "  eigen_val, eigen_vec = np.linalg.eig(cov_mat)\n",
        "  return [mu, X_norm, eigen_val, eigen_vec]"
      ],
      "execution_count": 0,
      "outputs": []
    },
    {
      "cell_type": "code",
      "metadata": {
        "id": "TY6CzBv0Lu6h",
        "colab_type": "code",
        "colab": {}
      },
      "source": [
        "def main(x_train, x_test, y_train, y_test):\n",
        "  \n",
        "  [mu, X_norm, eigenval, eigen_vec] = PCA(x_train)\n",
        "  X_test = imageMatrix(x_test)\n",
        "  X_test_norm = X_test - mu\n",
        " \n",
        "  accuracy_list = []\n",
        "  k_values = []\n",
        "\n",
        "  for k in [100, 200, 300, 400, 500, 600, 700]:\n",
        "    y_pred = []\n",
        "    U_reduce = eigen_vec[:, :k]\n",
        "    Z_train = np.dot(X_norm, U_reduce)\n",
        "    Z_test = np.dot(X_test_norm, U_reduce)\n",
        "    for i in range(Z_test.shape[0]):\n",
        "      index =  np.argmin(np.linalg.norm(Z_test[i] - Z_train, axis=1))\n",
        "      y_pred.append(y_train[index])\n",
        "\n",
        "    accuracy = accuracy_score(y_test, y_pred)\n",
        "    accuracy_list.append(accuracy)\n",
        "    k_values.append(k)\n",
        "  \n",
        "  return [accuracy_list, k_values]"
      ],
      "execution_count": 0,
      "outputs": []
    },
    {
      "cell_type": "code",
      "metadata": {
        "id": "O1jvpU0QPzl1",
        "colab_type": "code",
        "colab": {}
      },
      "source": [
        "[accuracy, k_val] = main(x_train, x_test, y_train, y_test)"
      ],
      "execution_count": 0,
      "outputs": []
    },
    {
      "cell_type": "code",
      "metadata": {
        "id": "1zpuP2AtQQr1",
        "colab_type": "code",
        "colab": {
          "base_uri": "https://localhost:8080/",
          "height": 279
        },
        "outputId": "2317155d-1b63-4865-f04a-428f601e257a"
      },
      "source": [
        "#accuracy graph against principal componants\n",
        "plt.subplot(111)\n",
        "plt.plot(k_val, np.array(accuracy)*100)\n",
        "plt.xlabel('Number Of Principal Componant')\n",
        "plt.ylabel('Accuracy')\n",
        "plt.grid()\n",
        "plt.show()"
      ],
      "execution_count": 19,
      "outputs": [
        {
          "output_type": "display_data",
          "data": {
            "image/png": "[encoded data removed]",
            "text/plain": [
              "<Figure size 432x288 with 1 Axes>"
            ]
          },
          "metadata": {
            "tags": []
          }
        }
      ]
    },
    {
      "cell_type": "code",
      "metadata": {
        "id": "9D1-Oxh9aKIk",
        "colab_type": "code",
        "colab": {}
      },
      "source": [
        ""
      ],
      "execution_count": 0,
      "outputs": []
    }
  ]
}