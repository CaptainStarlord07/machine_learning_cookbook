{
  "nbformat": 4,
  "nbformat_minor": 0,
  "metadata": {
    "colab": {
      "name": "SpamHamLR.ipynb",
      "provenance": []
    },
    "kernelspec": {
      "name": "python3",
      "display_name": "Python 3"
    }
  },
  "cells": [
    {
      "cell_type": "code",
      "metadata": {
        "id": "xm1bmG6xGffH",
        "colab_type": "code",
        "colab": {}
      },
      "source": [
        "#importing libraries\n",
        "import numpy as np\n",
        "import pandas as pd\n",
        "import re\n",
        "import string\n",
        "from sklearn.feature_extraction.text import TfidfVectorizer\n",
        "from sklearn.preprocessing import LabelEncoder\n",
        "from sklearn.model_selection import train_test_split\n",
        "import matplotlib.pyplot as plt\n",
        "from sklearn.metrics import accuracy_score"
      ],
      "execution_count": 0,
      "outputs": []
    },
    {
      "cell_type": "code",
      "metadata": {
        "id": "bH6EvqBEJD4Z",
        "colab_type": "code",
        "colab": {}
      },
      "source": [
        "#Data Cleaning\n",
        "def clean(line):\n",
        "    trans = str.maketrans(\"\",\"\",string.punctuation)\n",
        "    line = line.translate(trans)\n",
        "    line = re.sub(r'[^a-zA-Z ]',\"\",line)\n",
        "    line = re.sub(\" +\",\"\",line)\n",
        "    line = line.strip()\n",
        "    return line.lower()"
      ],
      "execution_count": 0,
      "outputs": []
    },
    {
      "cell_type": "code",
      "metadata": {
        "id": "hOsLbGarY9XN",
        "colab_type": "code",
        "colab": {}
      },
      "source": [
        "#Sigmoid Function\n",
        "def sigmoid(z):\n",
        "    return 1 / (1 + np.exp(-z))"
      ],
      "execution_count": 0,
      "outputs": []
    },
    {
      "cell_type": "code",
      "metadata": {
        "id": "DA9g0_cuZCCy",
        "colab_type": "code",
        "colab": {}
      },
      "source": [
        "#Loss Function\n",
        "def loss(h, y):\n",
        "    return (-y * np.log(h) - (1 - y) * np.log(1 - h)).mean()"
      ],
      "execution_count": 0,
      "outputs": []
    },
    {
      "cell_type": "code",
      "metadata": {
        "id": "6Gp3rKTRZHrL",
        "colab_type": "code",
        "colab": {}
      },
      "source": [
        "#Logistic Regression Model\n",
        "def logistic(X,Y,lr = 0.1, epochs = 1000):\n",
        "    m,n = X.shape\n",
        "    w = np.zeros(n)\n",
        "    cost = []\n",
        "    for i in range(epochs):\n",
        "        z = np.dot(X, w)\n",
        "        h = sigmoid(z)\n",
        "        error = h - Y\n",
        "        grad = np.dot(X.T, error) / m\n",
        "        w = w - lr*(grad)\n",
        "        cost.append(loss(h,Y))\n",
        "    return w,cost"
      ],
      "execution_count": 0,
      "outputs": []
    },
    {
      "cell_type": "code",
      "metadata": {
        "id": "c4mZHiWsZJFX",
        "colab_type": "code",
        "colab": {}
      },
      "source": [
        "#Target Value Predictor\n",
        "def predict(X,w):\n",
        "    z = sigmoid(np.dot(X,w))\n",
        "    return z.round()"
      ],
      "execution_count": 0,
      "outputs": []
    },
    {
      "cell_type": "code",
      "metadata": {
        "id": "4n0W6GIyH5VI",
        "colab_type": "code",
        "colab": {
          "base_uri": "https://localhost:8080/",
          "height": 204
        },
        "outputId": "ab504410-c66b-4ce6-82e5-5e64a862607f"
      },
      "source": [
        "#Loading Data\n",
        "df = pd.read_csv(\"SpamHam/spam ham data set.csv\",encoding='latin')\n",
        "df = df.drop(columns=['Unnamed: 2', 'Unnamed: 3', 'Unnamed: 4'], axis = 1)\n",
        "df.head()"
      ],
      "execution_count": 7,
      "outputs": [
        {
          "output_type": "execute_result",
          "data": {
            "text/html": [
              "<div>\n",
              "<style scoped>\n",
              "    .dataframe tbody tr th:only-of-type {\n",
              "        vertical-align: middle;\n",
              "    }\n",
              "\n",
              "    .dataframe tbody tr th {\n",
              "        vertical-align: top;\n",
              "    }\n",
              "\n",
              "    .dataframe thead th {\n",
              "        text-align: right;\n",
              "    }\n",
              "</style>\n",
              "<table border=\"1\" class=\"dataframe\">\n",
              "  <thead>\n",
              "    <tr style=\"text-align: right;\">\n",
              "      <th></th>\n",
              "      <th>v1</th>\n",
              "      <th>v2</th>\n",
              "    </tr>\n",
              "  </thead>\n",
              "  <tbody>\n",
              "    <tr>\n",
              "      <th>0</th>\n",
              "      <td>ham</td>\n",
              "      <td>Go until jurong point, crazy.. Available only ...</td>\n",
              "    </tr>\n",
              "    <tr>\n",
              "      <th>1</th>\n",
              "      <td>ham</td>\n",
              "      <td>Ok lar... Joking wif u oni...</td>\n",
              "    </tr>\n",
              "    <tr>\n",
              "      <th>2</th>\n",
              "      <td>spam</td>\n",
              "      <td>Free entry in 2 a wkly comp to win FA Cup fina...</td>\n",
              "    </tr>\n",
              "    <tr>\n",
              "      <th>3</th>\n",
              "      <td>ham</td>\n",
              "      <td>U dun say so early hor... U c already then say...</td>\n",
              "    </tr>\n",
              "    <tr>\n",
              "      <th>4</th>\n",
              "      <td>ham</td>\n",
              "      <td>Nah I don't think he goes to usf, he lives aro...</td>\n",
              "    </tr>\n",
              "  </tbody>\n",
              "</table>\n",
              "</div>"
            ],
            "text/plain": [
              "     v1                                                 v2\n",
              "0   ham  Go until jurong point, crazy.. Available only ...\n",
              "1   ham                      Ok lar... Joking wif u oni...\n",
              "2  spam  Free entry in 2 a wkly comp to win FA Cup fina...\n",
              "3   ham  U dun say so early hor... U c already then say...\n",
              "4   ham  Nah I don't think he goes to usf, he lives aro..."
            ]
          },
          "metadata": {
            "tags": []
          },
          "execution_count": 7
        }
      ]
    },
    {
      "cell_type": "code",
      "metadata": {
        "id": "4hk5gM6NJFrH",
        "colab_type": "code",
        "colab": {}
      },
      "source": [
        "def init(lr):\n",
        "  df[\"v2\"] = df[\"v2\"].apply(lambda x: clean(x))\n",
        "  enc = LabelEncoder()\n",
        "  df[\"v1\"] = enc.fit_transform(df[\"v1\"])\n",
        "  text = df[\"v2\"]\n",
        "  tf = TfidfVectorizer(\"english\")\n",
        "  mat = tf.fit_transform(text)\n",
        "  X = mat.toarray()\n",
        "  Y = df[\"v1\"].values\n",
        "  X_train, X_test, Y_train, Y_test = train_test_split(X, Y, test_size=0.66, random_state=20)  \n",
        "  epochs = 500\n",
        "  theta, loss = logistic(X_train, Y_train,lr,epochs)\n",
        "  y_pred = predict(X_test,theta)\n",
        "  plt.plot(range(epochs), loss)\n",
        "  print(accuracy_score(Y_test, y_pred))"
      ],
      "execution_count": 0,
      "outputs": []
    },
    {
      "cell_type": "code",
      "metadata": {
        "id": "4lDkQQ5HNIMK",
        "colab_type": "code",
        "colab": {
          "base_uri": "https://localhost:8080/",
          "height": 282
        },
        "outputId": "846f5a0e-7ec7-4390-86ce-6e1742f2334c"
      },
      "source": [
        "init(0.1)"
      ],
      "execution_count": 22,
      "outputs": [
        {
          "output_type": "stream",
          "text": [
            "0.88852637302882\n"
          ],
          "name": "stdout"
        },
        {
          "output_type": "display_data",
          "data": {
            "image/png": "[encoded data removed]",
            "text/plain": [
              "<Figure size 432x288 with 1 Axes>"
            ]
          },
          "metadata": {
            "tags": []
          }
        }
      ]
    },
    {
      "cell_type": "code",
      "metadata": {
        "id": "WjrN0jLrh0uu",
        "colab_type": "code",
        "colab": {}
      },
      "source": [
        ""
      ],
      "execution_count": 0,
      "outputs": []
    }
  ]
}