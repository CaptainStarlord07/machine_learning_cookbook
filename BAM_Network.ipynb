{
 "cells": [
  {
   "cell_type": "code",
   "execution_count": 1,
   "metadata": {},
   "outputs": [],
   "source": [
    "import numpy as np"
   ]
  },
  {
   "cell_type": "code",
   "execution_count": 2,
   "metadata": {},
   "outputs": [],
   "source": [
    "X = np.array([[1,1,1,1,1,1],[-1,-1,-1,-1,-1,-1],[1,-1,-1,1,1,1],[1,1,-1,-1,-1,-1]])\n",
    "y=np.array([[1,1,1],[-1,-1,-1],[-1,1,1],[1,-1,1]])"
   ]
  },
  {
   "cell_type": "code",
   "execution_count": 3,
   "metadata": {},
   "outputs": [],
   "source": [
    "def _init_(n, m):\n",
    "    w = np.zeros((m, n))\n",
    "    return w"
   ]
  },
  {
   "cell_type": "code",
   "execution_count": 4,
   "metadata": {},
   "outputs": [],
   "source": [
    "def transmission_function(z):\n",
    "    for i in range(z.shape[0]):\n",
    "        if z[i] > 1:\n",
    "            z[i] = 1\n",
    "        elif z[i] < -1:\n",
    "            z[i] = -1\n",
    "        else:\n",
    "            z[i] = 0\n",
    "    return z"
   ]
  },
  {
   "cell_type": "code",
   "execution_count": 20,
   "metadata": {},
   "outputs": [],
   "source": [
    "def bam_algorithm(X, y, w, lr, beta, leraningRateFlag):\n",
    "    v = w.T\n",
    "    flag = True\n",
    "    epoch = 0\n",
    "    while (flag):\n",
    "        flag = False\n",
    "        for i in range(X.shape[0]):\n",
    "            y_pred = np.dot(X[i], w.T) \n",
    "            x_pred = np.dot(y[i], v.T)\n",
    "            x_pred = transmission_function(x_pred)\n",
    "            y_pred = transmission_function(y_pred)\n",
    "            \n",
    "            #Feed forward - Calculating target values...................................\n",
    "            if(np.array_equal(y_pred, y[i]) == False):\n",
    "                flag = True\n",
    "                xi_pred = np.atleast_2d(x_pred)\n",
    "                yi_pred = np.atleast_2d(y_pred)\n",
    "                yi = np.atleast_2d(y[i])\n",
    "                xi = np.atleast_2d(X[i])\n",
    "                w = (beta * w) + (lr * np.dot((yi - yi_pred).T, (xi + xi_pred)))\n",
    "             \n",
    "            #Feed forward - Calculating input values....................................\n",
    "            if(np.array_equal(x_pred, X[i])==False):\n",
    "                xi_pred = np.atleast_2d(transmission_function(x_pred))\n",
    "                yi_pred = np.atleast_2d(transmission_function(y_pred))\n",
    "                yi = np.atleast_2d(y[i])\n",
    "                xi = np.atleast_2d(X[i])\n",
    "                flag = True\n",
    "                v = (beta * v) + (lr * np.dot((xi - xi_pred).T, (yi+yi_pred)))\n",
    "            \n",
    "            #Updating learning rate.....................................................\n",
    "            if leraningRateFlag:\n",
    "                lr = 1 / ((1 - 2 * 0.2)*max(X.shape[1], y.shape[1]))\n",
    "            epoch = epoch +1\n",
    "    print(\"Weights Convereged After \",epoch,\" Epochs......\")\n",
    "    return w, v, epoch\n",
    "    "
   ]
  },
  {
   "cell_type": "code",
   "execution_count": 23,
   "metadata": {},
   "outputs": [
    {
     "name": "stdout",
     "output_type": "stream",
     "text": [
      "Weights Convereged After  24  Epochs......\n"
     ]
    }
   ],
   "source": [
    "w = _init_(X.shape[1], y.shape[1])\n",
    "[w, v, e] = bam_algorithm(X, y, w, 0.1, 1, True) #True - Modified Learning Rate else false"
   ]
  },
  {
   "cell_type": "code",
   "execution_count": 24,
   "metadata": {},
   "outputs": [
    {
     "name": "stdout",
     "output_type": "stream",
     "text": [
      "[1. 1. 1.]\n",
      "[-1. -1. -1.]\n",
      "[-1.  1.  1.]\n",
      "[ 1. -1.  1.]\n"
     ]
    }
   ],
   "source": [
    "#Finding target values using calculated w weight matrix\n",
    "for i in range(X.shape[0]):\n",
    "    y_pred = np.dot(X[i], w.T)\n",
    "    y_pred = transmission_function(y_pred)\n",
    "    print(y_pred)"
   ]
  },
  {
   "cell_type": "code",
   "execution_count": 25,
   "metadata": {},
   "outputs": [
    {
     "name": "stdout",
     "output_type": "stream",
     "text": [
      "[1. 1. 1. 1. 1. 1.]\n",
      "[-1. -1. -1. -1. -1. -1.]\n",
      "[ 1. -1. -1.  1.  1.  1.]\n",
      "[ 1.  1. -1. -1. -1. -1.]\n"
     ]
    }
   ],
   "source": [
    "#Finding input values using calculated v weight matrix\n",
    "for i in range(y.shape[0]):\n",
    "    x_pred = np.dot(y[i], v.T)\n",
    "    x_pred = transmission_function(x_pred)\n",
    "    print(x_pred)"
   ]
  },
  {
   "cell_type": "code",
   "execution_count": null,
   "metadata": {},
   "outputs": [],
   "source": []
  }
 ],
 "metadata": {
  "kernelspec": {
   "display_name": "Python 3",
   "language": "python",
   "name": "python3"
  },
  "language_info": {
   "codemirror_mode": {
    "name": "ipython",
    "version": 3
   },
   "file_extension": ".py",
   "mimetype": "text/x-python",
   "name": "python",
   "nbconvert_exporter": "python",
   "pygments_lexer": "ipython3",
   "version": "3.7.4"
  }
 },
 "nbformat": 4,
 "nbformat_minor": 2
}
